{
 "cells": [
  {
   "attachments": {},
   "cell_type": "markdown",
   "metadata": {},
   "source": [
    "# Exam December 2022"
   ]
  },
  {
   "cell_type": "code",
   "execution_count": 1,
   "metadata": {},
   "outputs": [
    {
     "name": "stderr",
     "output_type": "stream",
     "text": [
      "C:\\Users\\migue\\AppData\\Roaming\\Python\\Python38\\site-packages\\scipy\\__init__.py:146: UserWarning: A NumPy version >=1.16.5 and <1.23.0 is required for this version of SciPy (detected version 1.24.2\n",
      "  warnings.warn(f\"A NumPy version >={np_minversion} and <{np_maxversion}\"\n"
     ]
    }
   ],
   "source": [
    "import numpy as np\n",
    "from scipy.stats import norm\n",
    "\n",
    "N = norm.cdf"
   ]
  },
  {
   "cell_type": "code",
   "execution_count": 34,
   "metadata": {},
   "outputs": [],
   "source": [
    "# Data\n",
    "\n",
    "# price of underlying at t=0\n",
    "s0 = 60\n",
    "\n",
    "# vol per annum of underlying\n",
    "sigma = 0.12\n",
    "\n",
    "# dividend\n",
    "q = 0.12\n",
    "\n",
    "# continuously compounded rf\n",
    "r = 0.03\n",
    "\n",
    "# time to maturity\n",
    "T = 19\n",
    "Tp = 19/12\n",
    "\n",
    "# specific time mentioned throughout exam\n",
    "t1 = 12\n",
    "t1p = 12/12\n",
    "\n",
    "dt = 1/12"
   ]
  },
  {
   "attachments": {},
   "cell_type": "markdown",
   "metadata": {},
   "source": [
    "# Q1.\n",
    "\n",
    "Compute the price of a plain vanilla at-the-money European option with maturity at time 𝑇."
   ]
  },
  {
   "cell_type": "code",
   "execution_count": 15,
   "metadata": {},
   "outputs": [],
   "source": [
    "# Calculate price of call option w/ dividends\n",
    "\n",
    "def bs_call_div(S_, X_, r_, Tp_, vol_, q_):\n",
    "    # Calculate d1\n",
    "    d1 = (np.log(S_/X_)+Tp_*((r_-q_)+(vol_**2)/2))/(vol_*np.sqrt(Tp_))\n",
    "    # Calculate d2\n",
    "    d2 = d1 - vol_ * np.sqrt(Tp_)\n",
    "    # Calculate call value\n",
    "    call = S_ * np.exp(-q_ * Tp_) * N(d1) - X_ * np.exp(-r_ * Tp_) * N(d2)\n",
    "    '''\n",
    "    print(\"S: \", S)\n",
    "    print(\"K: \", X)\n",
    "    print(\"r: \", r)\n",
    "    print(\"T: \", T)\n",
    "    print(\"sigma: \", var)\n",
    "    print(\"d1: \", d1)\n",
    "    print(\"d2: \", d2)\n",
    "    print(\"N(d1): \",N(d1))\n",
    "    print(\"N(d2): \",N(d2))\n",
    "    '''\n",
    "    return call"
   ]
  },
  {
   "cell_type": "code",
   "execution_count": 16,
   "metadata": {},
   "outputs": [
    {
     "data": {
      "text/plain": [
       "0.7439486860690501"
      ]
     },
     "execution_count": 16,
     "metadata": {},
     "output_type": "execute_result"
    }
   ],
   "source": [
    "bs_call_div(S_ = s0, X_ = s0, r_ = r, Tp_ = Tp, vol_ = sigma, q_ = q)"
   ]
  },
  {
   "attachments": {},
   "cell_type": "markdown",
   "metadata": {},
   "source": [
    "# Q2.\n",
    "\n",
    "Compute the price of a European option with maturity at time 𝑇, and 𝐾 = 𝑆𝑡1"
   ]
  },
  {
   "cell_type": "code",
   "execution_count": 47,
   "metadata": {},
   "outputs": [],
   "source": [
    "# With simulation\n",
    "\n",
    "# Define function to construct price paths according to Ito's Lemma (Accounting for monthly dividend)\n",
    "\n",
    "def price_paths_dividends(S0_, r_, sigma_, T_, dt_, n_paths, q_):\n",
    "    paths = []\n",
    "    for iteration in np.arange(0,n_paths,1):\n",
    "        current_price = S0_\n",
    "        dividend = S0_ * q_\n",
    "        iteration_path = [current_price]\n",
    "        z = norm.rvs(size = T_)\n",
    "        for step in np.arange(1, T_, 1):\n",
    "            if (step+1) % 6 == 0:\n",
    "                current_price = (current_price * np.exp((r_ - ((sigma_**2)/2)) * dt_ + z[step-1] * sigma_ * np.sqrt(dt_))) - dividend\n",
    "                iteration_path.append(current_price)\n",
    "            else:\n",
    "                current_price = current_price * np.exp((r_ - ((sigma_**2)/2)) * dt_ + z[step-1] * sigma_ * np.sqrt(dt_))\n",
    "                iteration_path.append(current_price)\n",
    "        paths.append([iteration, iteration_path])\n",
    "    return paths"
   ]
  },
  {
   "cell_type": "code",
   "execution_count": 48,
   "metadata": {},
   "outputs": [],
   "source": [
    "# Search for average price at time T\n",
    "\n",
    "def average_price(paths_, time):\n",
    "    sum = 0\n",
    "    for path_ in range(0, len(paths_)):\n",
    "        sum += paths_[path_][1][time-1]\n",
    "    return sum/len(paths_)"
   ]
  },
  {
   "cell_type": "code",
   "execution_count": 49,
   "metadata": {},
   "outputs": [
    {
     "data": {
      "text/plain": [
       "40.44843486713034"
      ]
     },
     "execution_count": 49,
     "metadata": {},
     "output_type": "execute_result"
    }
   ],
   "source": [
    "# Construct price paths (adjustable number of iterations)\n",
    "\n",
    "iter = 2000\n",
    "paths = price_paths_dividends(S0_ = s0, r_ = r, sigma_ = sigma, T_ = T, dt_ = dt, n_paths = iter, q_ = q)\n",
    "\n",
    "# Check average price at maturity\n",
    "average_price(paths, T)\n"
   ]
  },
  {
   "cell_type": "code",
   "execution_count": 50,
   "metadata": {},
   "outputs": [],
   "source": [
    "# Define function to calculate call payoff\n",
    "\n",
    "def call_payoff(sT_, K_):\n",
    "    return max(sT_ - K_, 0)"
   ]
  },
  {
   "cell_type": "code",
   "execution_count": 51,
   "metadata": {},
   "outputs": [],
   "source": [
    "# function to simulate payoffs\n",
    "def simulate_payoffs(paths_, t_, T_):\n",
    "    payoff_list = []\n",
    "    for path in paths_:\n",
    "        sT = path[1][T_-1]\n",
    "        st1 = path[1][t_-1]\n",
    "        pi = call_payoff(sT, st1)\n",
    "        payoff_list.append(pi)\n",
    "    return payoff_list"
   ]
  },
  {
   "cell_type": "code",
   "execution_count": 52,
   "metadata": {},
   "outputs": [
    {
     "name": "stdout",
     "output_type": "stream",
     "text": [
      "Average Call value with expiration at T and K = St1:  0.20958631948316303\n"
     ]
    }
   ],
   "source": [
    "discount_payoffs = np.exp(-r*Tp)\n",
    "\n",
    "q2 = np.average(simulate_payoffs(paths, t1, T))\n",
    "print(\"Average Call value with expiration at T and K = St1: \", q2*discount_payoffs)"
   ]
  },
  {
   "attachments": {},
   "cell_type": "markdown",
   "metadata": {},
   "source": [
    "# 3.\n",
    "\n",
    "Compute the price of a European option with maturity at time 𝑇, and 𝐾 = 𝑆𝑎𝑣𝑔, whereas 𝑆𝑎𝑣𝑔 represents the geometric average of the underlying asset’s price during the life of the option."
   ]
  },
  {
   "cell_type": "code",
   "execution_count": 25,
   "metadata": {},
   "outputs": [],
   "source": [
    "from scipy.stats import gmean\n",
    "\n",
    "# simulate payoffs w/ geometric average\n",
    "def simulate_payoffs_gavg(paths_, T_):\n",
    "    payoff_list = []\n",
    "    for path in paths_:\n",
    "        k = gmean(path[1])\n",
    "        sT = path[1][T_-1]\n",
    "        pi = call_payoff(sT, k)\n",
    "        payoff_list.append(pi)\n",
    "    return payoff_list"
   ]
  },
  {
   "cell_type": "code",
   "execution_count": 26,
   "metadata": {},
   "outputs": [
    {
     "name": "stdout",
     "output_type": "stream",
     "text": [
      "Average Call value with expiration at T and K = geo_avg:  0.4763951506716971\n"
     ]
    }
   ],
   "source": [
    "q3 = np.average(simulate_payoffs_gavg(paths, T))\n",
    "print(\"Average Call value with expiration at T and K = geo_avg: \", q3*discount_payoffs)"
   ]
  },
  {
   "attachments": {},
   "cell_type": "markdown",
   "metadata": {},
   "source": [
    "# 4.\n",
    "\n",
    "Compute the price of a European option with maturity at time 𝑇, where at time 𝑡1 you must choose\n",
    "either 𝐾 = 𝑆0 or 𝐾 = 𝑎𝑣𝑒𝑟𝑎𝑔𝑒{𝑆𝑡1, … , 𝑆𝑇}, where 𝑎𝑣𝑒𝑟𝑎𝑔𝑒{… } stands for the geometric average."
   ]
  },
  {
   "cell_type": "code",
   "execution_count": 29,
   "metadata": {},
   "outputs": [],
   "source": [
    "from scipy.stats import gmean\n",
    "\n",
    "# simulate payoffs of chooser option\n",
    "def simulate_payoffs_chooser(paths_, T_):\n",
    "    payoff_list = []\n",
    "    for path in paths_:\n",
    "        k1 = gmean(path[1])\n",
    "        k2 = path[1][0]\n",
    "        sT = path[1][T_-1]\n",
    "        if k1 < k2:\n",
    "            pi = call_payoff(sT, k1)\n",
    "            payoff_list.append(pi)\n",
    "        else:\n",
    "            pi = call_payoff(sT, k2)\n",
    "            payoff_list.append(pi)\n",
    "    return payoff_list"
   ]
  },
  {
   "cell_type": "code",
   "execution_count": 30,
   "metadata": {},
   "outputs": [
    {
     "name": "stdout",
     "output_type": "stream",
     "text": [
      "Average Call value with choice:  10.513256965167482\n"
     ]
    }
   ],
   "source": [
    "q4 = np.average(simulate_payoffs_chooser(paths, T))\n",
    "print(\"Average Call value with choice: \", q4*discount_payoffs)"
   ]
  },
  {
   "attachments": {},
   "cell_type": "markdown",
   "metadata": {},
   "source": [
    "# 5.\n",
    "\n",
    "Suppose that the option described in question 4 also had an up-and-out characteristic (if you are\n",
    "analysing a call) or a down-and-out characteristic (if you are analysing a put). Further suppose that the barrier would be defined at 𝑡1 and would be equal to 1.15 ∗ 𝑆𝑡1 (if you are analysing a call) or 0.85 ∗ 𝑆𝑡1 (if you are analysing a put). And further assume that the frequency with which we would observe whether the price has crossed the barrier is daily, between 𝑡1 and 𝑇.\n",
    "\n",
    "What is the risk-neutral probability that the barrier will be breached? And how would this feature affect the option’s fair value?"
   ]
  },
  {
   "cell_type": "code",
   "execution_count": 45,
   "metadata": {},
   "outputs": [],
   "source": [
    "# count barrier breaches as % of paths\n",
    "def count_breach(paths_, t1_, T_):\n",
    "    count_breach = 0\n",
    "    for path in paths_:\n",
    "        found = 0\n",
    "        for value in path[1][t1_-1:T_-1]:\n",
    "            if value > (path[1][t1_-1] * 1.15):\n",
    "                found = 1\n",
    "        if found > 0:\n",
    "            count_breach += 1\n",
    "    return count_breach / len(paths_)"
   ]
  },
  {
   "cell_type": "code",
   "execution_count": 46,
   "metadata": {},
   "outputs": [
    {
     "data": {
      "text/plain": [
       "0.332"
      ]
     },
     "execution_count": 46,
     "metadata": {},
     "output_type": "execute_result"
    }
   ],
   "source": [
    "count_breach(paths, t1, T)"
   ]
  },
  {
   "cell_type": "code",
   "execution_count": 51,
   "metadata": {},
   "outputs": [],
   "source": [
    "# function to signal breaches\n",
    "def signal_breaches(paths_, t1_, T_):\n",
    "    breach_list = []\n",
    "    for npath in range(0, len(paths_)):\n",
    "        path = paths[npath]\n",
    "        found = 0\n",
    "        for value in path[1][t1_-1:T_-1]:\n",
    "            if value > (path[1][t1_-1] * 1.15):\n",
    "                found = 1\n",
    "        if found > 0:\n",
    "            breach_list.append(npath)\n",
    "    return breach_list"
   ]
  },
  {
   "cell_type": "code",
   "execution_count": 53,
   "metadata": {},
   "outputs": [],
   "source": [
    "from scipy.stats import gmean\n",
    "\n",
    "# function to simulate payoffs of option\n",
    "def simulate_payoffs_chooser_barrier(paths_, t1_, T_):\n",
    "    payoff_list = []\n",
    "    breaches = signal_breaches(paths_, t1_, T_)\n",
    "    for npath in range(0, len(paths_)):\n",
    "        if npath not in breaches:    \n",
    "            path = paths[npath]\n",
    "            k1 = gmean(path[1])\n",
    "            k2 = path[1][0]\n",
    "            sT = path[1][T_-1]\n",
    "            if k1 < k2:\n",
    "                pi = call_payoff(sT, k1)\n",
    "                payoff_list.append(pi)\n",
    "            else:\n",
    "                pi = call_payoff(sT, k2)\n",
    "                payoff_list.append(pi)\n",
    "        else:\n",
    "            payoff_list.append(0)\n",
    "    return payoff_list"
   ]
  },
  {
   "cell_type": "code",
   "execution_count": 55,
   "metadata": {},
   "outputs": [
    {
     "name": "stdout",
     "output_type": "stream",
     "text": [
      "Average Call value with choice and barrier:  3.5533647940625266\n"
     ]
    }
   ],
   "source": [
    "q5 = np.average(simulate_payoffs_chooser_barrier(paths, t1, T))\n",
    "print(\"Average Call value with choice and barrier: \", q5*discount_payoffs)"
   ]
  }
 ],
 "metadata": {
  "kernelspec": {
   "display_name": "base",
   "language": "python",
   "name": "python3"
  },
  "language_info": {
   "codemirror_mode": {
    "name": "ipython",
    "version": 3
   },
   "file_extension": ".py",
   "mimetype": "text/x-python",
   "name": "python",
   "nbconvert_exporter": "python",
   "pygments_lexer": "ipython3",
   "version": "3.8.5"
  },
  "orig_nbformat": 4
 },
 "nbformat": 4,
 "nbformat_minor": 2
}
