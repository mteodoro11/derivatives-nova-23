{
 "cells": [
  {
   "attachments": {},
   "cell_type": "markdown",
   "metadata": {},
   "source": [
    "# Derivatives Exam - March 2023\n",
    "\n",
    "Miguel Teodoro, 93127"
   ]
  },
  {
   "cell_type": "code",
   "execution_count": 133,
   "metadata": {},
   "outputs": [],
   "source": [
    "import numpy as np\n",
    "from scipy.stats import norm"
   ]
  },
  {
   "cell_type": "code",
   "execution_count": 134,
   "metadata": {},
   "outputs": [],
   "source": [
    "N = norm.cdf"
   ]
  },
  {
   "cell_type": "code",
   "execution_count": 135,
   "metadata": {},
   "outputs": [],
   "source": [
    "# strikes\n",
    "s0a = 95\n",
    "s0b = 94\n",
    "\n",
    "# vols\n",
    "sigma_a = 0.305\n",
    "sigma_b = 0.303\n",
    "\n",
    "# cont. compounded rf\n",
    "r = 0.0405\n",
    "\n",
    "# time to maturity\n",
    "T = 187\n",
    "Tp = 187/250\n",
    "\n",
    "# spec. time relevant for some q's\n",
    "t1 = 68\n",
    "t1p = 68/250\n",
    "\n",
    "# single day\n",
    "dt = 1/250"
   ]
  },
  {
   "attachments": {},
   "cell_type": "markdown",
   "metadata": {},
   "source": [
    "# Q1.\n",
    "\n",
    "Compute the price of an at-the-money European call option on stock A with maturity at time 𝑇."
   ]
  },
  {
   "cell_type": "code",
   "execution_count": 132,
   "metadata": {},
   "outputs": [],
   "source": [
    "# Calculate price of call option using black scholes formula\n",
    "\n",
    "def bs_call(S_, X_, r_, Tp_, vol_):\n",
    "    # Calculate d1\n",
    "    d1 = (np.log(S_/X_)+(r_+(vol_**2)/2)*Tp_)/(vol_*np.sqrt(Tp_))\n",
    "    # Calculate d2\n",
    "    d2 = d1 - vol_ * np.sqrt(Tp_)\n",
    "    # Calculate call value\n",
    "    call = S_ * N(d1) - X_ * np.exp(-r_ * Tp_) * N(d2)\n",
    "    \n",
    "    print(\"S: \", S_)\n",
    "    print(\"K: \", X_)\n",
    "    print(\"r: \", r_)\n",
    "    print(\"Tp: \", Tp_)\n",
    "    print(\"sigma: \", vol_)\n",
    "    print(\"d1: \", d1)\n",
    "    print(\"d2: \", d2)\n",
    "    print(\"N(d1): \",N(d1))\n",
    "    print(\"N(d2): \",N(d2))\n",
    "    \n",
    "    return call"
   ]
  },
  {
   "cell_type": "code",
   "execution_count": 120,
   "metadata": {},
   "outputs": [
    {
     "name": "stdout",
     "output_type": "stream",
     "text": [
      "S:  95\n",
      "K:  95\n",
      "r:  0.0405\n",
      "Tp:  0.748\n",
      "sigma:  0.305\n",
      "d1:  0.24673604916224662\n",
      "d2:  -0.017049280225117147\n",
      "N(d1):  0.5974437471462545\n",
      "N(d2):  0.49319865076976716\n"
     ]
    },
    {
     "data": {
      "text/plain": [
       "11.301391298201324"
      ]
     },
     "execution_count": 120,
     "metadata": {},
     "output_type": "execute_result"
    }
   ],
   "source": [
    "# Calculate call value\n",
    "\n",
    "q1 = bs_call(s0a, s0a, r, Tp, sigma_a)\n",
    "q1"
   ]
  },
  {
   "attachments": {},
   "cell_type": "markdown",
   "metadata": {},
   "source": [
    "# Q2.\n",
    "\n",
    "Compute the price of a European call option on stock A with maturity at time 𝑇, and 𝐾 being the lowest of: (i) the stock price at 𝑡0, and (ii) the stock price at 𝑡1."
   ]
  },
  {
   "cell_type": "code",
   "execution_count": 99,
   "metadata": {},
   "outputs": [],
   "source": [
    "# Define function to construct price paths according to Ito's Lemma\n",
    "\n",
    "def price_paths(S0_, r_, sigma_, T_, dt_, n_paths):\n",
    "    paths = []\n",
    "    # For each path\n",
    "    for iteration in np.arange(0,n_paths,1):\n",
    "        current_price = S0_\n",
    "        iteration_path = [current_price]\n",
    "        z = norm.rvs(size = T_)\n",
    "        # Apply a new list of prices\n",
    "        for step in np.arange(1, T_, 1):\n",
    "            current_price = current_price * np.exp((r_ - ((sigma_**2)/2)) * dt_ + z[step-1] * sigma_ * np.sqrt(dt_))\n",
    "            iteration_path.append(current_price)\n",
    "        # Join all paths in a list\n",
    "        paths.append([iteration, iteration_path])\n",
    "    return paths"
   ]
  },
  {
   "cell_type": "code",
   "execution_count": 100,
   "metadata": {},
   "outputs": [],
   "source": [
    "# Function to search for average price at time T, might be useful later on\n",
    "\n",
    "def average_price(paths_, time):\n",
    "    sum = 0\n",
    "    for path_ in range(0, len(paths_)):\n",
    "        sum += paths_[path_][1][time-1]\n",
    "    return sum/len(paths_)"
   ]
  },
  {
   "cell_type": "code",
   "execution_count": 101,
   "metadata": {},
   "outputs": [],
   "source": [
    "# Construct price paths (adjustable number of iterations)\n",
    "\n",
    "iter = 2000\n",
    "paths_a = price_paths(s0a, r, sigma_a, T, dt, iter)"
   ]
  },
  {
   "cell_type": "code",
   "execution_count": 103,
   "metadata": {},
   "outputs": [],
   "source": [
    "# Define function to calculate call payoff\n",
    "\n",
    "def call_payoff(sT_, K_):\n",
    "    return max(sT_ - K_, 0)"
   ]
  },
  {
   "cell_type": "code",
   "execution_count": 105,
   "metadata": {},
   "outputs": [],
   "source": [
    "# To get the price of a call, we will simulate the payoff in each simulated path\n",
    "\n",
    "def simulate_payoffs_q2(paths_, t_, T_, s0_):\n",
    "    payoff_list = []\n",
    "    for path in paths_:\n",
    "        s0 = s0_\n",
    "        st1 = path[1][t_-1]\n",
    "        if s0 <= st1:\n",
    "            k = s0\n",
    "        else:\n",
    "            k = st1\n",
    "        sT = path[1][T_-1]\n",
    "        pi = call_payoff(sT, k)\n",
    "        payoff_list.append(pi)\n",
    "    return payoff_list"
   ]
  },
  {
   "cell_type": "code",
   "execution_count": 106,
   "metadata": {},
   "outputs": [
    {
     "name": "stdout",
     "output_type": "stream",
     "text": [
      "Average Call value:  12.773866353944497\n"
     ]
    }
   ],
   "source": [
    "discount_payoffs = np.exp(-r*Tp)\n",
    "\n",
    "q2 = np.average(simulate_payoffs_q2(paths_a, t1, T, s0a))\n",
    "print(\"Average Call value: \", q2*discount_payoffs)"
   ]
  },
  {
   "cell_type": "code",
   "execution_count": 121,
   "metadata": {},
   "outputs": [
    {
     "data": {
      "text/plain": [
       "1.8653676604856901"
      ]
     },
     "execution_count": 121,
     "metadata": {},
     "output_type": "execute_result"
    }
   ],
   "source": [
    "# Premium for option to switch k\n",
    "\n",
    "premium_q2 = q2 - q1\n",
    "premium_q2"
   ]
  },
  {
   "attachments": {},
   "cell_type": "markdown",
   "metadata": {},
   "source": [
    "# Q3.\n",
    "\n",
    "Compute the price of a European call option on stock A with maturity at time 𝑇, and 𝐾 being the lowest of: (i) the stock price at 𝑡0, and (ii) the stock price at 𝑡1; subject to a floor of 90% of the stock price at 𝑡0 (said differently, 𝐾 can’t be lower than 90% of the stock price at 𝑡0)"
   ]
  },
  {
   "cell_type": "code",
   "execution_count": 107,
   "metadata": {},
   "outputs": [],
   "source": [
    "# To get the price of a call, we will simulate the payoff in each simulated path\n",
    "\n",
    "def simulate_payoffs_q3(paths_, t_, T_, s0_):\n",
    "    payoff_list = []\n",
    "    for path in paths_:\n",
    "        s0 = s0_\n",
    "        st1 = path[1][t_-1]\n",
    "        # If St1 below the threshold, then \"cap\" it\n",
    "        if st1 < 0.9*s0:\n",
    "            st1 = 0.9*s0\n",
    "        # Compare and define k as the lowest\n",
    "        if s0 <= st1:\n",
    "            k = s0\n",
    "        else:\n",
    "            k = st1\n",
    "        sT = path[1][T_-1]\n",
    "        # Calculate payoff\n",
    "        pi = call_payoff(sT, k)\n",
    "        payoff_list.append(pi)\n",
    "    return payoff_list"
   ]
  },
  {
   "cell_type": "code",
   "execution_count": 109,
   "metadata": {},
   "outputs": [
    {
     "name": "stdout",
     "output_type": "stream",
     "text": [
      "Average Call value:  12.167641315493702\n"
     ]
    }
   ],
   "source": [
    "q3 = np.average(simulate_payoffs_q3(paths_a, t1, T, s0a))\n",
    "print(\"Average Call value: \", q3*discount_payoffs)"
   ]
  },
  {
   "cell_type": "code",
   "execution_count": 122,
   "metadata": {},
   "outputs": [
    {
     "data": {
      "text/plain": [
       "0.6248710245459552"
      ]
     },
     "execution_count": 122,
     "metadata": {},
     "output_type": "execute_result"
    }
   ],
   "source": [
    "# Cost for \"capping\" k\n",
    "\n",
    "cost_q3 = q2 - q3\n",
    "cost_q3"
   ]
  },
  {
   "attachments": {},
   "cell_type": "markdown",
   "metadata": {},
   "source": [
    "# Q4.\n",
    "\n",
    "Consider the European call option on stock A described in question 3. Further consider an otherwise similar European call option written on stock B. Then, compute the price of a derivative that would allow you to choose, at time 𝑇, between: (i) the payoff from the option written on stock A, and (ii) the payoff from the option written on stock B.\n"
   ]
  },
  {
   "cell_type": "code",
   "execution_count": 110,
   "metadata": {},
   "outputs": [],
   "source": [
    "def simulate_payoffs_q4(paths_a_, paths_b_, t_, T_, s0a_, s0b_):\n",
    "    payoff_list = []\n",
    "    for npath in range(0, len(paths_a)):\n",
    "        \n",
    "        # Simulate payoff for a\n",
    "        path_a = paths_a_[npath]\n",
    "        st1_a = path_a[1][t_-1]\n",
    "        if st1_a < 0.9*s0a_:\n",
    "            st1_a = 0.9*s0a_\n",
    "        if s0a_ <= st1_a:\n",
    "            ka = s0a_\n",
    "        else:\n",
    "            ka = st1_a\n",
    "        sTa = path_a[1][T_-1]\n",
    "        pi_a = call_payoff(sTa, ka)\n",
    "\n",
    "        # Simulate payoff for b\n",
    "        path_b = paths_b_[npath]\n",
    "        st1_b = path_b[1][t_-1]\n",
    "        if st1_b < 0.9*s0b_:\n",
    "            st1_b = 0.9*s0b_\n",
    "        if s0b_ <= st1_b:\n",
    "            kb = s0b_\n",
    "        else:\n",
    "            kb = st1_b\n",
    "        sTb = path_b[1][T_-1]\n",
    "        pi_b = call_payoff(sTb, kb)\n",
    "\n",
    "        # Keep the highest with max\n",
    "        payoff_list.append(max(pi_a,pi_b))\n",
    "\n",
    "    return payoff_list"
   ]
  },
  {
   "cell_type": "code",
   "execution_count": 111,
   "metadata": {},
   "outputs": [],
   "source": [
    "# Construct price paths (adjustable number of iterations)\n",
    "\n",
    "iter = 2000\n",
    "paths_b = price_paths(s0b, r, sigma_b, T, dt, iter)"
   ]
  },
  {
   "cell_type": "code",
   "execution_count": 112,
   "metadata": {},
   "outputs": [
    {
     "name": "stdout",
     "output_type": "stream",
     "text": [
      "Average Call value:  20.763706326984686\n"
     ]
    }
   ],
   "source": [
    "q4 = np.average(simulate_payoffs_q4(paths_a, paths_b, t1, T, s0a, s0b))\n",
    "print(\"Average Call value: \", q4*discount_payoffs)"
   ]
  },
  {
   "attachments": {},
   "cell_type": "markdown",
   "metadata": {},
   "source": [
    "# Q5.\n",
    "\n",
    "Suppose you want to take a long position in the derivative described in question 4. Further suppose that an investment bank was willing to buy/sell this derivative at a price that was 10% higher than the value you computed in question 4 (for simplicity, assume no bid/ask spread). Does this represent an arbitrage opportunity? If so, how would you exploit it? If not, how would you justify this discrepancy?"
   ]
  },
  {
   "attachments": {},
   "cell_type": "markdown",
   "metadata": {},
   "source": [
    "## Average Arbitrage Strategy Payoff"
   ]
  },
  {
   "cell_type": "code",
   "execution_count": 113,
   "metadata": {},
   "outputs": [
    {
     "data": {
      "text/plain": [
       "-189"
      ]
     },
     "execution_count": 113,
     "metadata": {},
     "output_type": "execute_result"
    }
   ],
   "source": [
    "# Pay for assets\n",
    "\n",
    "pay_assets_t0 = -94-95\n",
    "pay_assets_t0"
   ]
  },
  {
   "cell_type": "code",
   "execution_count": 114,
   "metadata": {},
   "outputs": [
    {
     "data": {
      "text/plain": [
       "189"
      ]
     },
     "execution_count": 114,
     "metadata": {},
     "output_type": "execute_result"
    }
   ],
   "source": [
    "# Borrow loan\n",
    "\n",
    "borrow = -pay_assets_t0\n",
    "borrow"
   ]
  },
  {
   "cell_type": "code",
   "execution_count": 115,
   "metadata": {},
   "outputs": [
    {
     "data": {
      "text/plain": [
       "23.54258136050918"
      ]
     },
     "execution_count": 115,
     "metadata": {},
     "output_type": "execute_result"
    }
   ],
   "source": [
    "# Sell option\n",
    "\n",
    "sell_option = q4*1.1\n",
    "sell_option"
   ]
  },
  {
   "cell_type": "code",
   "execution_count": 116,
   "metadata": {},
   "outputs": [
    {
     "data": {
      "text/plain": [
       "194.72556600000001"
      ]
     },
     "execution_count": 116,
     "metadata": {},
     "output_type": "execute_result"
    }
   ],
   "source": [
    "# Pay back loan\n",
    "\n",
    "pb_loan = borrow * (1+(r*Tp))\n",
    "pb_loan"
   ]
  },
  {
   "cell_type": "code",
   "execution_count": 117,
   "metadata": {},
   "outputs": [
    {
     "data": {
      "text/plain": [
       "194.32204971196933"
      ]
     },
     "execution_count": 117,
     "metadata": {},
     "output_type": "execute_result"
    }
   ],
   "source": [
    "# Profit from holding assets\n",
    "asseta_avg_payoff = average_price(paths_a, T) # - s0a\n",
    "assetb_avg_payoff = average_price(paths_b, T) # - s0b\n",
    "asset_avg_payoff = asseta_avg_payoff + assetb_avg_payoff\n",
    "asset_avg_payoff"
   ]
  },
  {
   "cell_type": "code",
   "execution_count": 118,
   "metadata": {},
   "outputs": [
    {
     "data": {
      "text/plain": [
       "21.402346691371978"
      ]
     },
     "execution_count": 118,
     "metadata": {},
     "output_type": "execute_result"
    }
   ],
   "source": [
    "# Pay back the option\n",
    "q4"
   ]
  },
  {
   "cell_type": "code",
   "execution_count": 119,
   "metadata": {},
   "outputs": [
    {
     "name": "stdout",
     "output_type": "stream",
     "text": [
      "T0 \n",
      "\n",
      "Pay Assets:  -189\n",
      "Borrow:  189\n",
      "Sell option:  23.54258136050918\n",
      "-> T0 Profit =  23.54258136050918 \n",
      "\n",
      "T1 \n",
      "\n",
      "Pay Back Loan:  -194.72556600000001\n",
      "Asset Average Price:  194.32204971196933\n",
      "Option average payoff:  21.402346691371978\n",
      "-> T1 Profit =  -21.805862979402665 \n",
      "\n",
      "-----\n",
      "Total Profit:  1.7367183811065132\n"
     ]
    }
   ],
   "source": [
    "t0profit = pay_assets_t0+borrow+sell_option\n",
    "t1profit = -pb_loan+asset_avg_payoff-q4\n",
    "\n",
    "total_profit = t0profit+t1profit\n",
    "\n",
    "print(\"T0 \\n\")\n",
    "print(\"Pay Assets: \", pay_assets_t0)\n",
    "print(\"Borrow: \", borrow)\n",
    "print(\"Sell option: \", sell_option)\n",
    "print(\"-> T0 Profit = \", t0profit, \"\\n\")\n",
    "print(\"T1 \\n\")\n",
    "print(\"Pay Back Loan: \", -pb_loan)\n",
    "print(\"Asset Average Price: \", asset_avg_payoff)\n",
    "print(\"Option average payoff: \", q4)\n",
    "print(\"-> T1 Profit = \", t1profit, \"\\n\")\n",
    "print(\"-----\")\n",
    "print(\"Total Profit: \", total_profit)"
   ]
  },
  {
   "attachments": {},
   "cell_type": "markdown",
   "metadata": {},
   "source": [
    "### Check if there is actual arbitrage, by using the strategy and simulating for all paths"
   ]
  },
  {
   "cell_type": "code",
   "execution_count": 129,
   "metadata": {},
   "outputs": [],
   "source": [
    "def find_no_arbitrage(paths_a_, paths_b_, t_, T_, s0a_, s0b_):\n",
    "    # For each simulated path\n",
    "    found = 0\n",
    "    while found == 0:\n",
    "\n",
    "        for npath in range(0, len(paths_a)):\n",
    "            \n",
    "            # Calculate payoff a\n",
    "\n",
    "            path_a = paths_a_[npath]\n",
    "            st1_a = path_a[1][t_-1]\n",
    "            if st1_a < 0.9*s0a_:\n",
    "                st1_a = 0.9*s0a_\n",
    "            if s0a_ <= st1_a:\n",
    "                ka = s0a_\n",
    "            else:\n",
    "                ka = st1_a\n",
    "            sTa = path_a[1][T_-1]\n",
    "            pi_a = call_payoff(sTa, ka)\n",
    "\n",
    "            # Calculate payoff b\n",
    "\n",
    "            path_b = paths_b_[npath]\n",
    "            st1_b = path_b[1][t_-1]\n",
    "            if st1_b < 0.9*s0b_:\n",
    "                st1_b = 0.9*s0b_\n",
    "            if s0b_ <= st1_b:\n",
    "                kb = s0b_\n",
    "            else:\n",
    "                kb = st1_b\n",
    "            sTb = path_b[1][T_-1]\n",
    "            pi_b = call_payoff(sTb, kb)\n",
    "\n",
    "            # Calculate arbitrage strategy payoff\n",
    "\n",
    "            option_payoff = max(pi_a,pi_b)\n",
    "            pay_assets_t0 = -s0a-s0b\n",
    "            borrow = -pay_assets_t0\n",
    "            sell_option = q4*1.1\n",
    "            pb_loan = borrow * (1+(r*Tp))\n",
    "            asset_avg_payoff = path_a[1][T_-1] + path_b[1][T_-1]\n",
    "\n",
    "            t0profit = pay_assets_t0+borrow+sell_option\n",
    "            t1profit = -pb_loan+asset_avg_payoff-option_payoff\n",
    "\n",
    "            total_profit = t0profit+t1profit\n",
    "\n",
    "            # If finds a negative payoff\n",
    "\n",
    "            if total_profit < 0:\n",
    "                found = 1\n",
    "                print(\"There is no arbitrage. Profit is negative under following conditions: \")\n",
    "                print(\"T0 \\n\")\n",
    "                print(\"Pay Assets: \", pay_assets_t0)\n",
    "                print(\"Borrow: \", borrow)\n",
    "                print(\"Sell option: \", sell_option)\n",
    "                print(\"-> T0 Profit = \", t0profit, \"\\n\")\n",
    "                print(\"T1 \\n\")\n",
    "                print(\"Pay Back Loan: \", -pb_loan)\n",
    "                print(\"Asset Average Price: \", asset_avg_payoff)\n",
    "                print(\"Option average payoff: \", option_payoff)\n",
    "                print(\"-> T1 Profit = \", t1profit, \"\\n\")\n",
    "                print(\"-----\")\n",
    "                print(\"Total Profit: \", total_profit)\n",
    "                print(\"ST a: \", sTa)\n",
    "                print(\"ST b: \", sTb)\n",
    "                \n",
    "                break # Remove break if want to see all paths where payoff is negative.\n",
    "\n",
    "    if found == 0:\n",
    "        print(\"There is arbitrage.\")\n"
   ]
  },
  {
   "cell_type": "code",
   "execution_count": 130,
   "metadata": {},
   "outputs": [
    {
     "name": "stdout",
     "output_type": "stream",
     "text": [
      "There is no arbitrage. Profit is negative under following conditions: \n",
      "T0 \n",
      "\n",
      "Pay Assets:  -189\n",
      "Borrow:  189\n",
      "Sell option:  23.54258136050918\n",
      "-> T0 Profit =  23.54258136050918 \n",
      "\n",
      "T1 \n",
      "\n",
      "Pay Back Loan:  -194.72556600000001\n",
      "Asset Average Price:  164.76116449323865\n",
      "Option average payoff:  11.105686966466678\n",
      "-> T1 Profit =  -41.07008847322804 \n",
      "\n",
      "-----\n",
      "Total Profit:  -17.52750711271886\n",
      "ST a:  69.05547752677198\n",
      "ST b:  95.70568696646669\n"
     ]
    }
   ],
   "source": [
    "find_no_arbitrage(paths_a, paths_b, t1, T, s0a, s0b)"
   ]
  }
 ],
 "metadata": {
  "kernelspec": {
   "display_name": "base",
   "language": "python",
   "name": "python3"
  },
  "language_info": {
   "codemirror_mode": {
    "name": "ipython",
    "version": 3
   },
   "file_extension": ".py",
   "mimetype": "text/x-python",
   "name": "python",
   "nbconvert_exporter": "python",
   "pygments_lexer": "ipython3",
   "version": "3.8.5"
  },
  "orig_nbformat": 4
 },
 "nbformat": 4,
 "nbformat_minor": 2
}
