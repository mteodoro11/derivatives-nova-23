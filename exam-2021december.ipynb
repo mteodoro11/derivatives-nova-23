{
 "cells": [
  {
   "attachments": {},
   "cell_type": "markdown",
   "metadata": {},
   "source": [
    "# Exam December 2021"
   ]
  },
  {
   "cell_type": "code",
   "execution_count": 2,
   "metadata": {},
   "outputs": [
    {
     "name": "stderr",
     "output_type": "stream",
     "text": [
      "C:\\Users\\migue\\AppData\\Roaming\\Python\\Python38\\site-packages\\scipy\\__init__.py:146: UserWarning: A NumPy version >=1.16.5 and <1.23.0 is required for this version of SciPy (detected version 1.24.2\n",
      "  warnings.warn(f\"A NumPy version >={np_minversion} and <{np_maxversion}\"\n"
     ]
    }
   ],
   "source": [
    "import numpy as np\n",
    "from scipy.stats import norm"
   ]
  },
  {
   "cell_type": "code",
   "execution_count": 3,
   "metadata": {},
   "outputs": [],
   "source": [
    "# normal distribution\n",
    "N = norm.cdf"
   ]
  },
  {
   "cell_type": "code",
   "execution_count": 4,
   "metadata": {},
   "outputs": [],
   "source": [
    "# Price at t=0\n",
    "s0 = 109\n",
    "\n",
    "# Volatility\n",
    "sigma = 0.179\n",
    "\n",
    "# rf\n",
    "r = 0.035\n",
    "\n",
    "# # of trading days\n",
    "t_days = 250\n",
    "\n",
    "# T and T as a % of t_days\n",
    "T = 203\n",
    "Tp = 203/t_days\n",
    "\n",
    "# t and t as a % of t_days\n",
    "t1 = 91\n",
    "t1p = 91/t_days\n",
    "\n",
    "# time step\n",
    "dt = 1/t_days"
   ]
  },
  {
   "attachments": {},
   "cell_type": "markdown",
   "metadata": {},
   "source": [
    "# Q1.\n",
    "\n",
    "Compute the price of a plain vanilla at-the-money European call option."
   ]
  },
  {
   "cell_type": "code",
   "execution_count": 5,
   "metadata": {},
   "outputs": [],
   "source": [
    "# Calculate price of call option\n",
    "\n",
    "def bs_call(S_, X_, r_, Tp_, vol_):\n",
    "    # Calculate d1\n",
    "    d1 = (np.log(S_/X_)+(r_+(vol_**2)/2)*Tp_)/(vol_*np.sqrt(Tp_))\n",
    "    # Calculate d2\n",
    "    d2 = d1 - vol_ * np.sqrt(Tp_)\n",
    "    # Calculate call value\n",
    "    call = S_ * N(d1) - X_ * np.exp(-r_ * Tp_) * N(d2)\n",
    "\n",
    "    print(\"S: \", S_)\n",
    "    print(\"K: \", X_)\n",
    "    print(\"r: \", r_)\n",
    "    print(\"T: \", Tp_)\n",
    "    print(\"sigma: \", vol_)\n",
    "    print(\"d1: \", d1)\n",
    "    print(\"d2: \", d2)\n",
    "    print(\"N(d1): \", N(d1))\n",
    "    print(\"N(d2): \", N(d2), \"\\n\")\n",
    "    print(\"Call Value: \")\n",
    "\n",
    "    return call"
   ]
  },
  {
   "cell_type": "code",
   "execution_count": 6,
   "metadata": {},
   "outputs": [
    {
     "name": "stdout",
     "output_type": "stream",
     "text": [
      "S:  109\n",
      "K:  109\n",
      "r:  0.035\n",
      "T:  0.812\n",
      "sigma:  0.179\n",
      "d1:  0.25684415918489106\n",
      "d2:  0.0955453929155857\n",
      "N(d1):  0.6013504604192399\n",
      "N(d2):  0.5380591815915454 \n",
      "\n",
      "Call Value: \n"
     ]
    },
    {
     "data": {
      "text/plain": [
       "8.54207608388203"
      ]
     },
     "execution_count": 6,
     "metadata": {},
     "output_type": "execute_result"
    }
   ],
   "source": [
    "bs_call(s0, s0, r, Tp, sigma)"
   ]
  },
  {
   "attachments": {},
   "cell_type": "markdown",
   "metadata": {},
   "source": [
    "# Q2.\n",
    "\n",
    "Compute the price of a plain vanilla at-the-money European put option."
   ]
  },
  {
   "cell_type": "code",
   "execution_count": 7,
   "metadata": {},
   "outputs": [],
   "source": [
    "# Calculate price of put option\n",
    "\n",
    "def bs_put(S_, X_, r_, Tp_, vol_):\n",
    "    # Calculate d1\n",
    "    d1 = (np.log(S_/X_)+(r_+(vol_**2)/2)*Tp_)/(vol_*np.sqrt(Tp_))\n",
    "    # Calculate d2\n",
    "    d2 = d1 - vol_ * np.sqrt(Tp_)\n",
    "    # Calculate call value\n",
    "    put = X_ * np.exp(-r_ * Tp_) * N(-d2) - S_ * N(-d1)\n",
    "\n",
    "    print(\"S: \", S_)\n",
    "    print(\"K: \", X_)\n",
    "    print(\"r: \", r_)\n",
    "    print(\"T: \", Tp_)\n",
    "    print(\"sigma: \", vol_)\n",
    "    print(\"d1: \", d1)\n",
    "    print(\"d2: \", d2)\n",
    "    print(\"N(-d1): \", N(-d1))\n",
    "    print(\"N(-d2): \", N(-d2), \"\\n\")\n",
    "    print(\"Put Value: \")\n",
    "\n",
    "    return put"
   ]
  },
  {
   "cell_type": "code",
   "execution_count": 8,
   "metadata": {},
   "outputs": [
    {
     "name": "stdout",
     "output_type": "stream",
     "text": [
      "S:  109\n",
      "K:  109\n",
      "r:  0.035\n",
      "T:  0.812\n",
      "sigma:  0.179\n",
      "d1:  0.25684415918489106\n",
      "d2:  0.0955453929155857\n",
      "N(-d1):  0.39864953958076016\n",
      "N(-d2):  0.46194081840845463 \n",
      "\n",
      "Put Value: \n"
     ]
    },
    {
     "data": {
      "text/plain": [
       "5.487901472824426"
      ]
     },
     "execution_count": 8,
     "metadata": {},
     "output_type": "execute_result"
    }
   ],
   "source": [
    "bs_put(s0, s0, r, Tp, sigma)"
   ]
  },
  {
   "attachments": {},
   "cell_type": "markdown",
   "metadata": {},
   "source": [
    "# Q3. & Q4.\n",
    "\n",
    "3. Compute the price of a call option that matures at time 𝑇, and whose strike price (𝐾) is only known at time 𝑡, such that:\n",
    "• 𝑲 = 𝐦𝐚𝐱{𝑺𝟏, 𝑺𝟐, … , 𝑺𝒕}\n",
    "\n",
    "4. Compute the price of a put option that matures at time 𝑇, and whose strike price (𝐾) is only known at time 𝑡, such that:\n",
    "• 𝑲 = 𝐦𝐢𝐧{𝑺𝟏, 𝑺𝟐, … , 𝑺𝒕}"
   ]
  },
  {
   "cell_type": "code",
   "execution_count": 9,
   "metadata": {},
   "outputs": [],
   "source": [
    "# Define function to construct price paths according to Ito's Lemma\n",
    "\n",
    "def price_paths(S0_, r_, sigma_, T_, dt_, n_paths):\n",
    "    paths = []\n",
    "    for iteration in np.arange(0,n_paths,1):\n",
    "        current_price = S0_\n",
    "        iteration_path = [current_price]\n",
    "        z = norm.rvs(size = T_)\n",
    "        for step in np.arange(1, T_, 1):\n",
    "            current_price = current_price * np.exp((r_ - ((sigma_**2)/2)) * dt_ + z[step-1] * sigma_ * np.sqrt(dt_))\n",
    "            iteration_path.append(current_price)\n",
    "        paths.append([iteration, iteration_path])\n",
    "    return paths\n"
   ]
  },
  {
   "cell_type": "code",
   "execution_count": 10,
   "metadata": {},
   "outputs": [],
   "source": [
    "# Construct price paths (adjustable number of iterations)\n",
    "\n",
    "iter = 2000\n",
    "paths = price_paths(s0, r, sigma, T, dt, iter)"
   ]
  },
  {
   "cell_type": "code",
   "execution_count": 11,
   "metadata": {},
   "outputs": [
    {
     "data": {
      "text/plain": [
       "112.87673261474117"
      ]
     },
     "execution_count": 11,
     "metadata": {},
     "output_type": "execute_result"
    }
   ],
   "source": [
    "# Just check if average price at time T makes sense\n",
    "\n",
    "def average_price(paths_, time):\n",
    "    sum = 0\n",
    "    for path_ in range(0, len(paths_)):\n",
    "        sum += paths_[path_][1][time-1]\n",
    "    return sum/len(paths_)\n",
    "\n",
    "average_price(paths, T)"
   ]
  },
  {
   "cell_type": "code",
   "execution_count": 12,
   "metadata": {},
   "outputs": [],
   "source": [
    "# Define function to calculate call payoff\n",
    "\n",
    "def call_payoff(sT_, K_):\n",
    "    return max(sT_ - K_, 0)"
   ]
  },
  {
   "cell_type": "code",
   "execution_count": 13,
   "metadata": {},
   "outputs": [],
   "source": [
    "# Define function to calculate put payoff\n",
    "\n",
    "def put_payoff(sT_, K_):\n",
    "    return max(K_ - sT_, 0)"
   ]
  },
  {
   "cell_type": "code",
   "execution_count": 14,
   "metadata": {},
   "outputs": [],
   "source": [
    "discount_payoffs = np.exp(-r*Tp)"
   ]
  },
  {
   "attachments": {},
   "cell_type": "markdown",
   "metadata": {},
   "source": [
    "## Q3."
   ]
  },
  {
   "cell_type": "code",
   "execution_count": 15,
   "metadata": {},
   "outputs": [
    {
     "name": "stdout",
     "output_type": "stream",
     "text": [
      "3.723568137089798\n"
     ]
    }
   ],
   "source": [
    "# For each path\n",
    "payoff_list = []\n",
    "for path in paths:\n",
    "    sT = path[1][-1]\n",
    "    K = np.max(path[1][0:t1-1])\n",
    "    # Calculate payoff\n",
    "    payoff = call_payoff(sT, K)\n",
    "    # Add payoff to payoff list\n",
    "    payoff_list.append(payoff)\n",
    "print(np.average(payoff_list)*discount_payoffs)"
   ]
  },
  {
   "attachments": {},
   "cell_type": "markdown",
   "metadata": {},
   "source": [
    "## Q4."
   ]
  },
  {
   "cell_type": "code",
   "execution_count": 16,
   "metadata": {},
   "outputs": [
    {
     "name": "stdout",
     "output_type": "stream",
     "text": [
      "1.807267521683589\n"
     ]
    }
   ],
   "source": [
    "# For each path\n",
    "payoff_list = []\n",
    "for path in paths:\n",
    "    sT = path[1][-1]\n",
    "    K = np.min(path[1][0:t1-1])\n",
    "    # Calculate payoff\n",
    "    payoff = put_payoff(sT, K)\n",
    "    # Add payoff to payoff list\n",
    "    payoff_list.append(payoff)\n",
    "print(np.average(payoff_list)*discount_payoffs)"
   ]
  },
  {
   "attachments": {},
   "cell_type": "markdown",
   "metadata": {},
   "source": [
    "# Q5.\n",
    "\n",
    "Compute the price of an option that allows you to choose between the options described in questions 3 and 4 at time 𝑡.\n"
   ]
  },
  {
   "cell_type": "code",
   "execution_count": 17,
   "metadata": {},
   "outputs": [
    {
     "name": "stdout",
     "output_type": "stream",
     "text": [
      "4.223458985385165\n"
     ]
    }
   ],
   "source": [
    "# For each path\n",
    "payoff_list = []\n",
    "for path in paths:\n",
    "    sT = path[1][-1]\n",
    "    st1 = path[1][t1-1]\n",
    "    #print(\"st1: \", st1)\n",
    "    K3 = np.max(path[1][0:t1-1])\n",
    "    #print(\"K3: \", K3)\n",
    "    K4 = np.min(path[1][0:t1-1])\n",
    "    #print(\"K4: \", K4)\n",
    "    # Choose the one that is more in the money at time t\n",
    "    # If call payoff is larger than put at t, choose call\n",
    "    if st1 - K3 >= K4 - st1:\n",
    "        #print(\"<Call>\")\n",
    "        payoff = call_payoff(sT, K3)\n",
    "    # If put payoff is larger than call at t, choose put\n",
    "    elif st1 - K3 < K4 - st1:\n",
    "        #print(\"<Put>\")\n",
    "        payoff = put_payoff(sT, K4)\n",
    "    #print(\"sT: \", sT)\n",
    "    #print(\"Payoff: \", payoff)\n",
    "    #print(\"------------\")\n",
    "    payoff_list.append(payoff)\n",
    "print(np.average(payoff_list)*discount_payoffs)"
   ]
  }
 ],
 "metadata": {
  "kernelspec": {
   "display_name": "base",
   "language": "python",
   "name": "python3"
  },
  "language_info": {
   "codemirror_mode": {
    "name": "ipython",
    "version": 3
   },
   "file_extension": ".py",
   "mimetype": "text/x-python",
   "name": "python",
   "nbconvert_exporter": "python",
   "pygments_lexer": "ipython3",
   "version": "3.8.5"
  },
  "orig_nbformat": 4
 },
 "nbformat": 4,
 "nbformat_minor": 2
}
