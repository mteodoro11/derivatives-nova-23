{
 "cells": [
  {
   "cell_type": "code",
   "execution_count": 67,
   "metadata": {},
   "outputs": [],
   "source": [
    "import numpy as np\n",
    "from scipy.stats import norm"
   ]
  },
  {
   "cell_type": "code",
   "execution_count": 68,
   "metadata": {},
   "outputs": [],
   "source": [
    "N = norm.cdf"
   ]
  },
  {
   "cell_type": "code",
   "execution_count": 69,
   "metadata": {},
   "outputs": [],
   "source": [
    "# Price at t=0\n",
    "s0 = 95\n",
    "\n",
    "# volatility\n",
    "sigma = 0.305\n",
    "\n",
    "# cont. compounded rf\n",
    "r = 0.0405\n",
    "\n",
    "# time to maturity\n",
    "T = 187\n",
    "Tp = 187/250\n",
    "\n",
    "# spec. time relevant in some q's\n",
    "t1 = 68\n",
    "t1p = 68/250\n",
    "\n",
    "# spec. time relevant in some q's\n",
    "t2 = 120\n",
    "t2p = 120/250\n",
    "\n",
    "# single day\n",
    "dt = 1/250"
   ]
  },
  {
   "attachments": {},
   "cell_type": "markdown",
   "metadata": {},
   "source": [
    "# Q1.\n",
    "\n",
    "Compute the price of a plain vanilla at-the-money European call option with maturity at time 𝑇."
   ]
  },
  {
   "cell_type": "code",
   "execution_count": 70,
   "metadata": {},
   "outputs": [],
   "source": [
    "# Calculate price of call option\n",
    "\n",
    "def bs_call(S_, X_, r_, Tp_, vol_):\n",
    "    # Calculate d1\n",
    "    d1 = (np.log(S_/X_)+(r_+(vol_**2)/2)*Tp_)/(vol_*np.sqrt(Tp_))\n",
    "    # Calculate d2\n",
    "    d2 = d1 - vol_ * np.sqrt(Tp_)\n",
    "    # Calculate call value\n",
    "    call = S_ * N(d1) - X_ * np.exp(-r_ * Tp_) * N(d2)\n",
    "    \n",
    "    print(\"S: \", S_)\n",
    "    print(\"K: \", X_)\n",
    "    print(\"r: \", r_)\n",
    "    print(\"Tp: \", Tp_)\n",
    "    print(\"sigma: \", vol_)\n",
    "    print(\"d1: \", d1)\n",
    "    print(\"d2: \", d2)\n",
    "    print(\"N(d1): \",N(d1))\n",
    "    print(\"N(d2): \",N(d2))\n",
    "    \n",
    "    return call"
   ]
  },
  {
   "cell_type": "code",
   "execution_count": 71,
   "metadata": {},
   "outputs": [
    {
     "name": "stdout",
     "output_type": "stream",
     "text": [
      "S:  95\n",
      "K:  95\n",
      "r:  0.0405\n",
      "Tp:  0.748\n",
      "sigma:  0.305\n",
      "d1:  0.24673604916224662\n",
      "d2:  -0.017049280225117147\n",
      "N(d1):  0.5974437471462545\n",
      "N(d2):  0.49319865076976716\n"
     ]
    },
    {
     "data": {
      "text/plain": [
       "11.301391298201324"
      ]
     },
     "execution_count": 71,
     "metadata": {},
     "output_type": "execute_result"
    }
   ],
   "source": [
    "# Calculate call value based on implied volatility found\n",
    "\n",
    "bs_call(s0, s0, r, Tp, sigma)"
   ]
  },
  {
   "attachments": {},
   "cell_type": "markdown",
   "metadata": {},
   "source": [
    "# Q2.\n",
    "\n",
    "Compute the price of a European call option with maturity at time 𝑇, and 𝐾 = 𝑆𝑡1."
   ]
  },
  {
   "cell_type": "code",
   "execution_count": 72,
   "metadata": {},
   "outputs": [],
   "source": [
    "# Define function to construct price paths according to Ito's Lemma\n",
    "\n",
    "def price_paths(S0_, r_, sigma_, T_, dt_, n_paths):\n",
    "    paths = []\n",
    "    for iteration in np.arange(0,n_paths,1):\n",
    "        current_price = S0_\n",
    "        iteration_path = [current_price]\n",
    "        z = norm.rvs(size = T_)\n",
    "        for step in np.arange(1, T_, 1):\n",
    "            current_price = current_price * np.exp((r_ - ((sigma_**2)/2)) * dt_ + z[step-1] * sigma_ * np.sqrt(dt_))\n",
    "            iteration_path.append(current_price)\n",
    "        paths.append([iteration, iteration_path])\n",
    "    return paths\n"
   ]
  },
  {
   "cell_type": "code",
   "execution_count": 73,
   "metadata": {},
   "outputs": [],
   "source": [
    "# Search for average price at time T\n",
    "\n",
    "def average_price(paths_, time):\n",
    "    sum = 0\n",
    "    for path_ in range(0, len(paths_)):\n",
    "        sum += paths_[path_][1][time-1]\n",
    "    return sum/len(paths_)"
   ]
  },
  {
   "cell_type": "code",
   "execution_count": 74,
   "metadata": {},
   "outputs": [],
   "source": [
    "# Construct price paths (adjustable number of iterations)\n",
    "\n",
    "iter = 2000\n",
    "paths = price_paths(s0, r, sigma, T, dt, iter)"
   ]
  },
  {
   "cell_type": "code",
   "execution_count": 75,
   "metadata": {},
   "outputs": [],
   "source": [
    "# Define function to calculate call payoff\n",
    "\n",
    "def call_payoff(sT_, K_):\n",
    "    return max(sT_ - K_, 0)"
   ]
  },
  {
   "cell_type": "code",
   "execution_count": 76,
   "metadata": {},
   "outputs": [],
   "source": [
    "# To get the price of a call, we will simulate the payoff in each simulated path\n",
    "\n",
    "def simulate_payoffs(paths_, t_, T_):\n",
    "    payoff_list = []\n",
    "    for path in paths_:\n",
    "        pi = call_payoff(path[1][T_-1], path[1][t_-1])\n",
    "        payoff_list.append(pi)\n",
    "    return payoff_list\n"
   ]
  },
  {
   "cell_type": "code",
   "execution_count": 77,
   "metadata": {},
   "outputs": [],
   "source": [
    "discount_payoffs = np.exp(-r*Tp)"
   ]
  },
  {
   "cell_type": "code",
   "execution_count": 78,
   "metadata": {},
   "outputs": [
    {
     "name": "stdout",
     "output_type": "stream",
     "text": [
      "Average Call value with expiration at T and K = St1:  8.682779804803522\n"
     ]
    }
   ],
   "source": [
    "q2 = np.average(simulate_payoffs(paths, t1, T))\n",
    "print(\"Average Call value with expiration at T and K = St1: \", q2*discount_payoffs)"
   ]
  },
  {
   "attachments": {},
   "cell_type": "markdown",
   "metadata": {},
   "source": [
    "# Q3. \n",
    "\n",
    "Consider the option described in question 2. What is the impact on the price of such an option, if\n",
    "the underlying asset were to pay a one-off dividend (i.e., non-recurring dividend) after time 0, but before 𝑡1?\n",
    "Would it increase, decrease, or remain unchanged? "
   ]
  },
  {
   "cell_type": "code",
   "execution_count": 79,
   "metadata": {},
   "outputs": [],
   "source": [
    "# Simulate prices with one-off dividend\n",
    "\n",
    "def price_paths_break_div(S0_, r_, sigma_, T_, dt_, break_at, div_, n_paths):\n",
    "    paths = []\n",
    "    for iteration in np.arange(0,n_paths,1):\n",
    "        current_price = S0_\n",
    "        iteration_path = [current_price]\n",
    "        z = norm.rvs(size = T_)\n",
    "        for step in np.arange(1, T_, 1):\n",
    "            if step != break_at:\n",
    "                current_price = current_price * np.exp((r_ - ((sigma_**2)/2)) * dt_ + z[step-1] * sigma_ * np.sqrt(dt_))\n",
    "                iteration_path.append(current_price)\n",
    "            else:\n",
    "                current_price = (current_price - div_) * np.exp((r_ - ((sigma_**2)/2)) * dt_ + z[step-1] * sigma_ * np.sqrt(dt_))\n",
    "                iteration_path.append(current_price)\n",
    "        paths.append([iteration, iteration_path])\n",
    "    return paths"
   ]
  },
  {
   "cell_type": "code",
   "execution_count": 80,
   "metadata": {},
   "outputs": [
    {
     "name": "stdout",
     "output_type": "stream",
     "text": [
      "Average call price with dividend =  1 :  8.320895387238624\n",
      "Average call price with dividend =  2 :  8.770645947102324\n",
      "Average call price with dividend =  3 :  8.579622079950381\n",
      "Average call price with dividend =  4 :  7.992790826037715\n",
      "Average call price with dividend =  5 :  8.632773857088402\n",
      "Average call price with dividend =  6 :  8.39604963309457\n",
      "Average call price with dividend =  7 :  7.736236139035681\n",
      "Average call price with dividend =  8 :  7.95851564276069\n",
      "Average call price with dividend =  9 :  7.986922382266308\n",
      "Average call price with dividend =  10 :  8.30938259631074\n",
      "Average call price with dividend =  11 :  7.353383881318344\n",
      "Average call price with dividend =  12 :  7.816761135560847\n",
      "Average call price with dividend =  13 :  7.731504783364101\n",
      "Average call price with dividend =  14 :  7.506951528838674\n",
      "Average call price with dividend =  15 :  7.467448237860672\n",
      "Average call price with dividend =  16 :  7.018728626583436\n",
      "Average call price with dividend =  17 :  7.527927645412583\n",
      "Average call price with dividend =  18 :  7.027728039432984\n",
      "Average call price with dividend =  19 :  7.149516683679603\n",
      "Average call price with dividend =  20 :  7.182387499688532\n"
     ]
    }
   ],
   "source": [
    "iter = 2000\n",
    "div_time = int(t1 / 2)\n",
    "for dividend in np.arange(1,21,1):\n",
    "    paths_div = price_paths_break_div(s0, r, sigma, T, dt, div_time, dividend, iter)\n",
    "    print(\"Average call price with dividend = \", dividend, \": \",np.average(simulate_payoffs(paths_div, t1, T)) * discount_payoffs)\n",
    "    "
   ]
  },
  {
   "attachments": {},
   "cell_type": "markdown",
   "metadata": {},
   "source": [
    "# Q4.\n",
    "\n",
    "Compute the price of an at-the-money European call option with maturity at time 𝑇, which also gives you the right to reset the strike price at time 𝑡1, such that 𝐾 = 𝑆𝑡1."
   ]
  },
  {
   "cell_type": "code",
   "execution_count": 82,
   "metadata": {},
   "outputs": [
    {
     "name": "stdout",
     "output_type": "stream",
     "text": [
      "12.810317551252751\n"
     ]
    }
   ],
   "source": [
    "# For each path\n",
    "payoff_list = []\n",
    "for path in paths:\n",
    "    sT = path[1][-1]\n",
    "    st1 = path[1][t1-1]\n",
    "    # Calculate payoff with normal strike\n",
    "    no_option = call_payoff(sT, s0)\n",
    "    # Decide to change to St1\n",
    "    if st1 < s0:\n",
    "        option = call_payoff(sT, st1)\n",
    "    else:\n",
    "        option = no_option\n",
    "    # Add payoff to payoff list\n",
    "    payoff_list.append(max(no_option, option))\n",
    "print(np.average(payoff_list)*discount_payoffs)"
   ]
  },
  {
   "cell_type": "code",
   "execution_count": 83,
   "metadata": {},
   "outputs": [],
   "source": [
    "# Would just say it is more expensive than both the previous ones, since it has the premium of the option of shifting from one to the other."
   ]
  },
  {
   "attachments": {},
   "cell_type": "markdown",
   "metadata": {},
   "source": [
    "# Q5.\n",
    "\n",
    "Compute the price of an at-the-money European call option with maturity at time 𝑇, which also gives you the right to reset the strike price at time 𝑡1, such that 𝐾 = 𝑆𝑡2 (where 𝑡1 < 𝑡2)."
   ]
  },
  {
   "cell_type": "code",
   "execution_count": 84,
   "metadata": {},
   "outputs": [
    {
     "name": "stdout",
     "output_type": "stream",
     "text": [
      "12.399583605705086\n"
     ]
    }
   ],
   "source": [
    "# For each path\n",
    "payoff_list = []\n",
    "for path in paths:\n",
    "    sT = path[1][-1]\n",
    "    st1 = path[1][t1-1]\n",
    "    st2 = path[1][t2-1]\n",
    "    # Calculate payoff with normal strike\n",
    "    no_option = call_payoff(sT, s0)\n",
    "    # Calculate payoff with changing strike (will only change strike if St1 < S0)\n",
    "    if st1 < s0:\n",
    "        option = call_payoff(sT, st2)\n",
    "    else:\n",
    "        option = no_option\n",
    "    # Add payoff to payoff list\n",
    "    payoff_list.append(max(no_option, option))\n",
    "print(np.average(payoff_list)*discount_payoffs)"
   ]
  },
  {
   "cell_type": "code",
   "execution_count": 85,
   "metadata": {},
   "outputs": [],
   "source": [
    "# Small difference but price is smaller, caused by a higher uncertainty when choosing to trade from one strike to another"
   ]
  },
  {
   "attachments": {},
   "cell_type": "markdown",
   "metadata": {},
   "source": [
    "# Q6.\n",
    "\n",
    "Compute the price of an at-the-money European call option with maturity at time 𝑇, which also gives you the right to reset the strike price at time 𝑡1, such that:\n",
    "\n",
    "• 𝐾 = 100% ∗ 𝑆𝑡2 if 𝑆𝑡2 > 90% ∗ 𝑆𝑡1\n",
    "\n",
    "• 𝐾 = 105% ∗ 𝑆𝑡2 if 𝑆𝑡2 ≤ 90% ∗ 𝑆𝑡1"
   ]
  },
  {
   "cell_type": "code",
   "execution_count": 86,
   "metadata": {},
   "outputs": [
    {
     "name": "stdout",
     "output_type": "stream",
     "text": [
      "12.405929773406298\n"
     ]
    }
   ],
   "source": [
    "# For each path\n",
    "payoff_list = []\n",
    "for path in paths:\n",
    "    sT = path[1][-1]\n",
    "    st1 = path[1][t1-1]\n",
    "    st2 = path[1][t2-1]\n",
    "    # Calculate payoff with normal strike\n",
    "    no_option = call_payoff(sT, s0)\n",
    "    # Calculate payoff with changing strike\n",
    "    if st2 > st1*0.9 and st2 < s0:\n",
    "        option = call_payoff(sT, st2)\n",
    "    elif st2 <= st1*0.9 and st2*1.05 < s0:\n",
    "        option = call_payoff(sT, st2*1.05)\n",
    "    else:\n",
    "        option = no_option\n",
    "    # Add payoff to payoff list\n",
    "    payoff_list.append(max(no_option, option))\n",
    "print(np.average(payoff_list)*discount_payoffs)"
   ]
  },
  {
   "cell_type": "code",
   "execution_count": 87,
   "metadata": {},
   "outputs": [],
   "source": [
    "# Price of option remains similar to before, showing that both options, while different, will provide similar payoffs."
   ]
  }
 ],
 "metadata": {
  "kernelspec": {
   "display_name": "base",
   "language": "python",
   "name": "python3"
  },
  "language_info": {
   "codemirror_mode": {
    "name": "ipython",
    "version": 3
   },
   "file_extension": ".py",
   "mimetype": "text/x-python",
   "name": "python",
   "nbconvert_exporter": "python",
   "pygments_lexer": "ipython3",
   "version": "3.8.5"
  },
  "orig_nbformat": 4
 },
 "nbformat": 4,
 "nbformat_minor": 2
}
